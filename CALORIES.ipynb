{
 "cells": [
  {
   "cell_type": "markdown",
   "id": "f6ac8dd7",
   "metadata": {},
   "source": [
    "# CALORIES"
   ]
  },
  {
   "cell_type": "markdown",
   "id": "7e8cbe23",
   "metadata": {},
   "source": [
    "### Import Packages"
   ]
  },
  {
   "cell_type": "code",
   "execution_count": 1,
   "id": "dd23a707",
   "metadata": {},
   "outputs": [],
   "source": [
    "import numpy as np\n",
    "import pandas as pd"
   ]
  },
  {
   "cell_type": "code",
   "execution_count": 2,
   "id": "6bb3fa9d",
   "metadata": {},
   "outputs": [
    {
     "data": {
      "text/html": [
       "<div>\n",
       "<style scoped>\n",
       "    .dataframe tbody tr th:only-of-type {\n",
       "        vertical-align: middle;\n",
       "    }\n",
       "\n",
       "    .dataframe tbody tr th {\n",
       "        vertical-align: top;\n",
       "    }\n",
       "\n",
       "    .dataframe thead th {\n",
       "        text-align: right;\n",
       "    }\n",
       "</style>\n",
       "<table border=\"1\" class=\"dataframe\">\n",
       "  <thead>\n",
       "    <tr style=\"text-align: right;\">\n",
       "      <th></th>\n",
       "      <th>Gender</th>\n",
       "      <th>Age</th>\n",
       "      <th>Height</th>\n",
       "      <th>Weight</th>\n",
       "      <th>Duration</th>\n",
       "      <th>Heart_Rate</th>\n",
       "      <th>Body_Temp</th>\n",
       "      <th>Calories</th>\n",
       "    </tr>\n",
       "  </thead>\n",
       "  <tbody>\n",
       "    <tr>\n",
       "      <th>0</th>\n",
       "      <td>male</td>\n",
       "      <td>68</td>\n",
       "      <td>190</td>\n",
       "      <td>94</td>\n",
       "      <td>29</td>\n",
       "      <td>105</td>\n",
       "      <td>40.8</td>\n",
       "      <td>231</td>\n",
       "    </tr>\n",
       "    <tr>\n",
       "      <th>1</th>\n",
       "      <td>female</td>\n",
       "      <td>20</td>\n",
       "      <td>166</td>\n",
       "      <td>60</td>\n",
       "      <td>14</td>\n",
       "      <td>94</td>\n",
       "      <td>40.3</td>\n",
       "      <td>66</td>\n",
       "    </tr>\n",
       "    <tr>\n",
       "      <th>2</th>\n",
       "      <td>male</td>\n",
       "      <td>69</td>\n",
       "      <td>179</td>\n",
       "      <td>79</td>\n",
       "      <td>5</td>\n",
       "      <td>88</td>\n",
       "      <td>38.7</td>\n",
       "      <td>26</td>\n",
       "    </tr>\n",
       "    <tr>\n",
       "      <th>3</th>\n",
       "      <td>female</td>\n",
       "      <td>34</td>\n",
       "      <td>179</td>\n",
       "      <td>71</td>\n",
       "      <td>13</td>\n",
       "      <td>100</td>\n",
       "      <td>40.5</td>\n",
       "      <td>71</td>\n",
       "    </tr>\n",
       "    <tr>\n",
       "      <th>4</th>\n",
       "      <td>female</td>\n",
       "      <td>27</td>\n",
       "      <td>154</td>\n",
       "      <td>58</td>\n",
       "      <td>10</td>\n",
       "      <td>81</td>\n",
       "      <td>39.8</td>\n",
       "      <td>35</td>\n",
       "    </tr>\n",
       "    <tr>\n",
       "      <th>5</th>\n",
       "      <td>female</td>\n",
       "      <td>36</td>\n",
       "      <td>151</td>\n",
       "      <td>50</td>\n",
       "      <td>23</td>\n",
       "      <td>96</td>\n",
       "      <td>40.7</td>\n",
       "      <td>123</td>\n",
       "    </tr>\n",
       "    <tr>\n",
       "      <th>6</th>\n",
       "      <td>female</td>\n",
       "      <td>33</td>\n",
       "      <td>158</td>\n",
       "      <td>56</td>\n",
       "      <td>22</td>\n",
       "      <td>95</td>\n",
       "      <td>40.5</td>\n",
       "      <td>112</td>\n",
       "    </tr>\n",
       "    <tr>\n",
       "      <th>7</th>\n",
       "      <td>male</td>\n",
       "      <td>41</td>\n",
       "      <td>175</td>\n",
       "      <td>85</td>\n",
       "      <td>25</td>\n",
       "      <td>100</td>\n",
       "      <td>40.7</td>\n",
       "      <td>143</td>\n",
       "    </tr>\n",
       "    <tr>\n",
       "      <th>8</th>\n",
       "      <td>male</td>\n",
       "      <td>60</td>\n",
       "      <td>186</td>\n",
       "      <td>94</td>\n",
       "      <td>21</td>\n",
       "      <td>97</td>\n",
       "      <td>40.4</td>\n",
       "      <td>134</td>\n",
       "    </tr>\n",
       "    <tr>\n",
       "      <th>9</th>\n",
       "      <td>female</td>\n",
       "      <td>26</td>\n",
       "      <td>146</td>\n",
       "      <td>51</td>\n",
       "      <td>16</td>\n",
       "      <td>90</td>\n",
       "      <td>40.2</td>\n",
       "      <td>72</td>\n",
       "    </tr>\n",
       "    <tr>\n",
       "      <th>10</th>\n",
       "      <td>female</td>\n",
       "      <td>36</td>\n",
       "      <td>177</td>\n",
       "      <td>76</td>\n",
       "      <td>1</td>\n",
       "      <td>74</td>\n",
       "      <td>37.8</td>\n",
       "      <td>3</td>\n",
       "    </tr>\n",
       "    <tr>\n",
       "      <th>11</th>\n",
       "      <td>female</td>\n",
       "      <td>21</td>\n",
       "      <td>157</td>\n",
       "      <td>56</td>\n",
       "      <td>17</td>\n",
       "      <td>100</td>\n",
       "      <td>40.0</td>\n",
       "      <td>92</td>\n",
       "    </tr>\n",
       "    <tr>\n",
       "      <th>12</th>\n",
       "      <td>male</td>\n",
       "      <td>66</td>\n",
       "      <td>171</td>\n",
       "      <td>79</td>\n",
       "      <td>11</td>\n",
       "      <td>90</td>\n",
       "      <td>40.0</td>\n",
       "      <td>58</td>\n",
       "    </tr>\n",
       "    <tr>\n",
       "      <th>13</th>\n",
       "      <td>female</td>\n",
       "      <td>32</td>\n",
       "      <td>157</td>\n",
       "      <td>54</td>\n",
       "      <td>18</td>\n",
       "      <td>93</td>\n",
       "      <td>40.4</td>\n",
       "      <td>88</td>\n",
       "    </tr>\n",
       "    <tr>\n",
       "      <th>14</th>\n",
       "      <td>male</td>\n",
       "      <td>53</td>\n",
       "      <td>182</td>\n",
       "      <td>85</td>\n",
       "      <td>2</td>\n",
       "      <td>82</td>\n",
       "      <td>38.1</td>\n",
       "      <td>7</td>\n",
       "    </tr>\n",
       "    <tr>\n",
       "      <th>15</th>\n",
       "      <td>female</td>\n",
       "      <td>39</td>\n",
       "      <td>156</td>\n",
       "      <td>62</td>\n",
       "      <td>28</td>\n",
       "      <td>104</td>\n",
       "      <td>40.8</td>\n",
       "      <td>170</td>\n",
       "    </tr>\n",
       "    <tr>\n",
       "      <th>16</th>\n",
       "      <td>male</td>\n",
       "      <td>39</td>\n",
       "      <td>182</td>\n",
       "      <td>82</td>\n",
       "      <td>4</td>\n",
       "      <td>82</td>\n",
       "      <td>38.6</td>\n",
       "      <td>11</td>\n",
       "    </tr>\n",
       "    <tr>\n",
       "      <th>17</th>\n",
       "      <td>male</td>\n",
       "      <td>46</td>\n",
       "      <td>169</td>\n",
       "      <td>67</td>\n",
       "      <td>11</td>\n",
       "      <td>89</td>\n",
       "      <td>40.2</td>\n",
       "      <td>43</td>\n",
       "    </tr>\n",
       "    <tr>\n",
       "      <th>18</th>\n",
       "      <td>female</td>\n",
       "      <td>27</td>\n",
       "      <td>171</td>\n",
       "      <td>65</td>\n",
       "      <td>4</td>\n",
       "      <td>85</td>\n",
       "      <td>38.6</td>\n",
       "      <td>15</td>\n",
       "    </tr>\n",
       "    <tr>\n",
       "      <th>19</th>\n",
       "      <td>male</td>\n",
       "      <td>50</td>\n",
       "      <td>188</td>\n",
       "      <td>86</td>\n",
       "      <td>14</td>\n",
       "      <td>94</td>\n",
       "      <td>40.2</td>\n",
       "      <td>74</td>\n",
       "    </tr>\n",
       "  </tbody>\n",
       "</table>\n",
       "</div>"
      ],
      "text/plain": [
       "    Gender  Age  Height  Weight  Duration  Heart_Rate  Body_Temp  Calories\n",
       "0     male   68     190      94        29         105       40.8       231\n",
       "1   female   20     166      60        14          94       40.3        66\n",
       "2     male   69     179      79         5          88       38.7        26\n",
       "3   female   34     179      71        13         100       40.5        71\n",
       "4   female   27     154      58        10          81       39.8        35\n",
       "5   female   36     151      50        23          96       40.7       123\n",
       "6   female   33     158      56        22          95       40.5       112\n",
       "7     male   41     175      85        25         100       40.7       143\n",
       "8     male   60     186      94        21          97       40.4       134\n",
       "9   female   26     146      51        16          90       40.2        72\n",
       "10  female   36     177      76         1          74       37.8         3\n",
       "11  female   21     157      56        17         100       40.0        92\n",
       "12    male   66     171      79        11          90       40.0        58\n",
       "13  female   32     157      54        18          93       40.4        88\n",
       "14    male   53     182      85         2          82       38.1         7\n",
       "15  female   39     156      62        28         104       40.8       170\n",
       "16    male   39     182      82         4          82       38.6        11\n",
       "17    male   46     169      67        11          89       40.2        43\n",
       "18  female   27     171      65         4          85       38.6        15\n",
       "19    male   50     188      86        14          94       40.2        74"
      ]
     },
     "execution_count": 2,
     "metadata": {},
     "output_type": "execute_result"
    }
   ],
   "source": [
    "data = pd.read_csv('./dataGit/DataSet/calories_dataset.csv')\n",
    "data.head(20)"
   ]
  },
  {
   "cell_type": "code",
   "execution_count": 3,
   "id": "39f8e54a",
   "metadata": {},
   "outputs": [],
   "source": [
    "def add_Gender(inpt):\n",
    "    if inpt == 'male':\n",
    "        return '1'\n",
    "    if inpt  == 'female':\n",
    "        return '0'\n",
    "    \n",
    "data['Gender'] = data['Gender'].apply(add_Gender)"
   ]
  },
  {
   "cell_type": "markdown",
   "id": "47f622ad",
   "metadata": {},
   "source": [
    "### Display Number of Rows, Columns"
   ]
  },
  {
   "cell_type": "code",
   "execution_count": 4,
   "id": "d3f0c17b",
   "metadata": {},
   "outputs": [
    {
     "data": {
      "text/plain": [
       "(15000, 8)"
      ]
     },
     "execution_count": 4,
     "metadata": {},
     "output_type": "execute_result"
    }
   ],
   "source": [
    "data.shape"
   ]
  },
  {
   "cell_type": "markdown",
   "id": "dbce1beb",
   "metadata": {},
   "source": [
    "### Number of Missing Values in the Dataset"
   ]
  },
  {
   "cell_type": "code",
   "execution_count": 5,
   "id": "2a64a33a",
   "metadata": {},
   "outputs": [
    {
     "data": {
      "text/plain": [
       "Gender        0\n",
       "Age           0\n",
       "Height        0\n",
       "Weight        0\n",
       "Duration      0\n",
       "Heart_Rate    0\n",
       "Body_Temp     0\n",
       "Calories      0\n",
       "dtype: int64"
      ]
     },
     "execution_count": 5,
     "metadata": {},
     "output_type": "execute_result"
    }
   ],
   "source": [
    "data.isnull().sum()"
   ]
  },
  {
   "cell_type": "markdown",
   "id": "03583d9b",
   "metadata": {},
   "source": [
    "### Drop Columns"
   ]
  },
  {
   "cell_type": "code",
   "execution_count": 6,
   "id": "4ac88bc9",
   "metadata": {},
   "outputs": [
    {
     "data": {
      "text/html": [
       "<div>\n",
       "<style scoped>\n",
       "    .dataframe tbody tr th:only-of-type {\n",
       "        vertical-align: middle;\n",
       "    }\n",
       "\n",
       "    .dataframe tbody tr th {\n",
       "        vertical-align: top;\n",
       "    }\n",
       "\n",
       "    .dataframe thead th {\n",
       "        text-align: right;\n",
       "    }\n",
       "</style>\n",
       "<table border=\"1\" class=\"dataframe\">\n",
       "  <thead>\n",
       "    <tr style=\"text-align: right;\">\n",
       "      <th></th>\n",
       "      <th>Gender</th>\n",
       "      <th>Age</th>\n",
       "      <th>Height</th>\n",
       "      <th>Weight</th>\n",
       "      <th>Duration</th>\n",
       "      <th>Heart_Rate</th>\n",
       "      <th>Body_Temp</th>\n",
       "      <th>Calories</th>\n",
       "    </tr>\n",
       "  </thead>\n",
       "  <tbody>\n",
       "    <tr>\n",
       "      <th>0</th>\n",
       "      <td>1</td>\n",
       "      <td>68</td>\n",
       "      <td>190</td>\n",
       "      <td>94</td>\n",
       "      <td>29</td>\n",
       "      <td>105</td>\n",
       "      <td>40.8</td>\n",
       "      <td>231</td>\n",
       "    </tr>\n",
       "    <tr>\n",
       "      <th>1</th>\n",
       "      <td>0</td>\n",
       "      <td>20</td>\n",
       "      <td>166</td>\n",
       "      <td>60</td>\n",
       "      <td>14</td>\n",
       "      <td>94</td>\n",
       "      <td>40.3</td>\n",
       "      <td>66</td>\n",
       "    </tr>\n",
       "    <tr>\n",
       "      <th>2</th>\n",
       "      <td>1</td>\n",
       "      <td>69</td>\n",
       "      <td>179</td>\n",
       "      <td>79</td>\n",
       "      <td>5</td>\n",
       "      <td>88</td>\n",
       "      <td>38.7</td>\n",
       "      <td>26</td>\n",
       "    </tr>\n",
       "    <tr>\n",
       "      <th>3</th>\n",
       "      <td>0</td>\n",
       "      <td>34</td>\n",
       "      <td>179</td>\n",
       "      <td>71</td>\n",
       "      <td>13</td>\n",
       "      <td>100</td>\n",
       "      <td>40.5</td>\n",
       "      <td>71</td>\n",
       "    </tr>\n",
       "    <tr>\n",
       "      <th>4</th>\n",
       "      <td>0</td>\n",
       "      <td>27</td>\n",
       "      <td>154</td>\n",
       "      <td>58</td>\n",
       "      <td>10</td>\n",
       "      <td>81</td>\n",
       "      <td>39.8</td>\n",
       "      <td>35</td>\n",
       "    </tr>\n",
       "  </tbody>\n",
       "</table>\n",
       "</div>"
      ],
      "text/plain": [
       "  Gender  Age  Height  Weight  Duration  Heart_Rate  Body_Temp  Calories\n",
       "0      1   68     190      94        29         105       40.8       231\n",
       "1      0   20     166      60        14          94       40.3        66\n",
       "2      1   69     179      79         5          88       38.7        26\n",
       "3      0   34     179      71        13         100       40.5        71\n",
       "4      0   27     154      58        10          81       39.8        35"
      ]
     },
     "execution_count": 6,
     "metadata": {},
     "output_type": "execute_result"
    }
   ],
   "source": [
    "data.head()"
   ]
  },
  {
   "cell_type": "code",
   "execution_count": 7,
   "id": "a75c5517",
   "metadata": {},
   "outputs": [],
   "source": [
    "data = data.fillna(0)"
   ]
  },
  {
   "cell_type": "code",
   "execution_count": null,
   "id": "2f28b83b",
   "metadata": {},
   "outputs": [],
   "source": []
  },
  {
   "cell_type": "code",
   "execution_count": 8,
   "id": "2007fb56",
   "metadata": {},
   "outputs": [],
   "source": [
    "data['Gender']=data['Gender'].astype(np.int64)"
   ]
  },
  {
   "cell_type": "code",
   "execution_count": 9,
   "id": "0cd36dc7",
   "metadata": {},
   "outputs": [],
   "source": [
    "data['Body_Temp']=data['Body_Temp'].astype(np.int64)"
   ]
  },
  {
   "cell_type": "code",
   "execution_count": null,
   "id": "20622358",
   "metadata": {},
   "outputs": [],
   "source": []
  },
  {
   "cell_type": "code",
   "execution_count": 10,
   "id": "45e908a3",
   "metadata": {},
   "outputs": [
    {
     "name": "stdout",
     "output_type": "stream",
     "text": [
      "<class 'pandas.core.frame.DataFrame'>\n",
      "RangeIndex: 15000 entries, 0 to 14999\n",
      "Data columns (total 8 columns):\n",
      " #   Column      Non-Null Count  Dtype\n",
      "---  ------      --------------  -----\n",
      " 0   Gender      15000 non-null  int64\n",
      " 1   Age         15000 non-null  int64\n",
      " 2   Height      15000 non-null  int64\n",
      " 3   Weight      15000 non-null  int64\n",
      " 4   Duration    15000 non-null  int64\n",
      " 5   Heart_Rate  15000 non-null  int64\n",
      " 6   Body_Temp   15000 non-null  int64\n",
      " 7   Calories    15000 non-null  int64\n",
      "dtypes: int64(8)\n",
      "memory usage: 937.6 KB\n"
     ]
    }
   ],
   "source": [
    "data.info()"
   ]
  },
  {
   "cell_type": "code",
   "execution_count": null,
   "id": "1e93093d",
   "metadata": {},
   "outputs": [],
   "source": []
  },
  {
   "cell_type": "code",
   "execution_count": null,
   "id": "08996cc3",
   "metadata": {},
   "outputs": [],
   "source": []
  },
  {
   "cell_type": "markdown",
   "id": "b6b2f68d",
   "metadata": {},
   "source": [
    "### Find the Feature Importance"
   ]
  },
  {
   "cell_type": "code",
   "execution_count": 11,
   "id": "dd757a49",
   "metadata": {},
   "outputs": [
    {
     "data": {
      "text/plain": [
       "<AxesSubplot:>"
      ]
     },
     "execution_count": 11,
     "metadata": {},
     "output_type": "execute_result"
    },
    {
     "data": {
      "image/png": "[encoded data removed]",
      "text/plain": [
       "<Figure size 936x720 with 2 Axes>"
      ]
     },
     "metadata": {
      "needs_background": "light"
     },
     "output_type": "display_data"
    }
   ],
   "source": [
    "import seaborn as sns \n",
    "import matplotlib.pyplot as plt\n",
    "plt.figure(figsize=(13,10))\n",
    "sns.heatmap(data.corr(),annot=True, fmt = \".2f\", cmap = \"coolwarm\")"
   ]
  },
  {
   "cell_type": "markdown",
   "id": "191f0ec4",
   "metadata": {},
   "source": [
    "### Split the Dataset"
   ]
  },
  {
   "cell_type": "code",
   "execution_count": 12,
   "id": "95c7ea09",
   "metadata": {},
   "outputs": [],
   "source": [
    "X = data.drop('Calories',axis=1)\n",
    "Y = data['Calories']"
   ]
  },
  {
   "cell_type": "code",
   "execution_count": null,
   "id": "45c02f3e",
   "metadata": {},
   "outputs": [],
   "source": []
  },
  {
   "cell_type": "code",
   "execution_count": null,
   "id": "28568415",
   "metadata": {},
   "outputs": [],
   "source": []
  },
  {
   "cell_type": "code",
   "execution_count": null,
   "id": "3b12f9c0",
   "metadata": {},
   "outputs": [],
   "source": []
  },
  {
   "cell_type": "code",
   "execution_count": null,
   "id": "70ba7062",
   "metadata": {},
   "outputs": [],
   "source": []
  },
  {
   "cell_type": "code",
   "execution_count": 13,
   "id": "c6f918f9",
   "metadata": {},
   "outputs": [],
   "source": [
    "from sklearn.model_selection import train_test_split\n",
    "X_train, X_test, Y_train, Y_test = train_test_split(X,Y, test_size=0.20)"
   ]
  },
  {
   "cell_type": "code",
   "execution_count": 14,
   "id": "5c1385d3",
   "metadata": {},
   "outputs": [
    {
     "data": {
      "text/plain": [
       "(12000, 7)"
      ]
     },
     "execution_count": 14,
     "metadata": {},
     "output_type": "execute_result"
    }
   ],
   "source": [
    "X_train.shape"
   ]
  },
  {
   "cell_type": "code",
   "execution_count": 15,
   "id": "df60ae65",
   "metadata": {},
   "outputs": [
    {
     "data": {
      "text/plain": [
       "(3000, 7)"
      ]
     },
     "execution_count": 15,
     "metadata": {},
     "output_type": "execute_result"
    }
   ],
   "source": [
    "X_test.shape"
   ]
  },
  {
   "cell_type": "code",
   "execution_count": null,
   "id": "92df3840",
   "metadata": {},
   "outputs": [],
   "source": []
  },
  {
   "cell_type": "code",
   "execution_count": null,
   "id": "cff75762",
   "metadata": {},
   "outputs": [],
   "source": []
  },
  {
   "cell_type": "markdown",
   "id": "d2f49556",
   "metadata": {},
   "source": [
    "### Create Function for Output Training and Testing Accuracy without using Cross Validation"
   ]
  },
  {
   "cell_type": "markdown",
   "id": "161847a6",
   "metadata": {},
   "source": [
    "### Create Function for Output Training and Testing Accuracy using Cross Validation"
   ]
  },
  {
   "cell_type": "code",
   "execution_count": 17,
   "id": "70054cff",
   "metadata": {},
   "outputs": [],
   "source": [
    "from sklearn.model_selection import cross_val_score\n",
    "def model_acc_cross_val(model):\n",
    "    model.fit(X_train.values,Y_train.values)\n",
    "    acc1 = cross_val_score(model,X_train,Y_train, cv=5).mean()\n",
    "    acc2 = cross_val_score(model,X_test.values,Y_test, cv=5).mean()\n",
    "    print(str(model)+' Training Accuracy --> '+str(acc1))\n",
    "    print(str(model)+' Testing Accuracy --> '+str(acc2))"
   ]
  },
  {
   "cell_type": "markdown",
   "id": "ade3a8e4",
   "metadata": {},
   "source": [
    "### Get Training and Testing Accuracy"
   ]
  },
  {
   "cell_type": "code",
   "execution_count": 16,
   "id": "2dc08668",
   "metadata": {},
   "outputs": [],
   "source": [
    "def model_acc(model):\n",
    "    model.fit(X_train.values,Y_train.values)\n",
    "    acc1 = model.score(X_train.values,Y_train)\n",
    "    acc2 = model.score(X_test.values,Y_test.values)\n",
    "    print(str(model)+' Training Accuracy --> '+str(acc1))\n",
    "    print(str(model)+' Testing Accuracy --> '+str(acc2))"
   ]
  },
  {
   "cell_type": "code",
   "execution_count": 53,
   "id": "7e3d01f5",
   "metadata": {},
   "outputs": [
    {
     "name": "stdout",
     "output_type": "stream",
     "text": [
      "MultinomialNB() Training Accuracy --> 0.04516666666666667\n",
      "MultinomialNB() Testing Accuracy --> 0.03133333333333333\n"
     ]
    }
   ],
   "source": [
    "from sklearn.naive_bayes import MultinomialNB\n",
    "MNBC = MultinomialNB()\n",
    "model_acc(MNBC)"
   ]
  },
  {
   "cell_type": "code",
   "execution_count": 54,
   "id": "670bb1fb",
   "metadata": {},
   "outputs": [
    {
     "name": "stdout",
     "output_type": "stream",
     "text": [
      "GaussianNB() Training Accuracy --> 0.06183333333333333\n",
      "GaussianNB() Testing Accuracy --> 0.04766666666666667\n"
     ]
    }
   ],
   "source": [
    "from sklearn.naive_bayes import GaussianNB\n",
    "GNBC = GaussianNB()\n",
    "model_acc(GNBC)"
   ]
  },
  {
   "cell_type": "code",
   "execution_count": 55,
   "id": "d4bbd14b",
   "metadata": {},
   "outputs": [
    {
     "name": "stdout",
     "output_type": "stream",
     "text": [
      "SGDClassifier() Training Accuracy --> 0.009916666666666667\n",
      "SGDClassifier() Testing Accuracy --> 0.007666666666666666\n"
     ]
    }
   ],
   "source": [
    "from sklearn.linear_model import SGDClassifier\n",
    "SGDC = SGDClassifier()\n",
    "model_acc(SGDC)"
   ]
  },
  {
   "cell_type": "code",
   "execution_count": 56,
   "id": "3290dc22",
   "metadata": {},
   "outputs": [
    {
     "name": "stdout",
     "output_type": "stream",
     "text": [
      "KNeighborsClassifier() Training Accuracy --> 0.21175\n",
      "KNeighborsClassifier() Testing Accuracy --> 0.03133333333333333\n"
     ]
    }
   ],
   "source": [
    "from sklearn.neighbors import KNeighborsClassifier\n",
    "KNC = KNeighborsClassifier()\n",
    "model_acc(KNC)"
   ]
  },
  {
   "cell_type": "code",
   "execution_count": 19,
   "id": "372a6203",
   "metadata": {},
   "outputs": [
    {
     "name": "stdout",
     "output_type": "stream",
     "text": [
      "RandomForestRegressor() Training Accuracy --> 0.9997209756709133\n",
      "RandomForestRegressor() Testing Accuracy --> 0.9979752392149578\n"
     ]
    }
   ],
   "source": [
    "from sklearn.ensemble import RandomForestRegressor\n",
    "RFC = RandomForestRegressor()\n",
    "model_acc(RFC)"
   ]
  },
  {
   "cell_type": "code",
   "execution_count": 58,
   "id": "4f222530",
   "metadata": {},
   "outputs": [
    {
     "name": "stdout",
     "output_type": "stream",
     "text": [
      "DecisionTreeClassifier() Training Accuracy --> 1.0\n",
      "DecisionTreeClassifier() Testing Accuracy --> 0.164\n"
     ]
    }
   ],
   "source": [
    "from sklearn.tree import DecisionTreeClassifier\n",
    "DT = DecisionTreeClassifier()\n",
    "model_acc(DT)"
   ]
  },
  {
   "cell_type": "markdown",
   "id": "2c2d46cb",
   "metadata": {},
   "source": [
    "### Testing Accuracy After Hyperparameter tuning"
   ]
  },
  {
   "cell_type": "code",
   "execution_count": 82,
   "id": "d6a59662",
   "metadata": {},
   "outputs": [
    {
     "data": {
      "text/plain": [
       "0.9982411036612453"
      ]
     },
     "execution_count": 82,
     "metadata": {},
     "output_type": "execute_result"
    }
   ],
   "source": [
    "RFC.score(X_test,Y_test)"
   ]
  },
  {
   "cell_type": "code",
   "execution_count": null,
   "id": "04a988ea",
   "metadata": {},
   "outputs": [],
   "source": [
    "from sklearn.model_selection import GridSearchCV\n",
    "param_grid = {\n",
    "    'n_neighbors': [2,4,5,6,8],\n",
    "    'weights' : ['uniform','distance'],\n",
    "    'leaf_size': [10,20,30,40]\n",
    "}\n",
    "grid_search = GridSearchCV(estimator=KNCmodel,param_grid=param_grid)"
   ]
  },
  {
   "cell_type": "code",
   "execution_count": null,
   "id": "f6326684",
   "metadata": {},
   "outputs": [],
   "source": [
    "grid_search = GridSearchCV(estimator=KNCmodel,param_grid=param_grid)"
   ]
  },
  {
   "cell_type": "code",
   "execution_count": null,
   "id": "3d7f40cb",
   "metadata": {},
   "outputs": [],
   "source": [
    "grid_search.fit(X_train,Y_train)"
   ]
  },
  {
   "cell_type": "code",
   "execution_count": null,
   "id": "ed199366",
   "metadata": {},
   "outputs": [],
   "source": [
    "grid_search.best_params_"
   ]
  },
  {
   "cell_type": "code",
   "execution_count": null,
   "id": "e04b7a88",
   "metadata": {},
   "outputs": [],
   "source": [
    "grid_search.score(X_test,Y_test)"
   ]
  },
  {
   "cell_type": "code",
   "execution_count": null,
   "id": "41ed4d91",
   "metadata": {},
   "outputs": [],
   "source": []
  },
  {
   "cell_type": "code",
   "execution_count": 20,
   "id": "690096b8",
   "metadata": {},
   "outputs": [
    {
     "data": {
      "text/plain": [
       "array([230.44])"
      ]
     },
     "execution_count": 20,
     "metadata": {},
     "output_type": "execute_result"
    }
   ],
   "source": [
    "RFC.predict([[1,68,190,94,29,105,40]])"
   ]
  },
  {
   "cell_type": "markdown",
   "id": "85c31885",
   "metadata": {},
   "source": [
    "### Save the Model with pickle"
   ]
  },
  {
   "cell_type": "code",
   "execution_count": 92,
   "id": "bf749936",
   "metadata": {},
   "outputs": [],
   "source": [
    "import pickle\n",
    "with open('Calories.pickle', 'wb') as file:\n",
    "    pickle.dump(RFC, file)"
   ]
  },
  {
   "cell_type": "markdown",
   "id": "f162eb97",
   "metadata": {},
   "source": [
    "### Make a Simple Prediction using the Model"
   ]
  },
  {
   "cell_type": "code",
   "execution_count": 93,
   "id": "dde665b0",
   "metadata": {},
   "outputs": [
    {
     "data": {
      "text/html": [
       "<div>\n",
       "<style scoped>\n",
       "    .dataframe tbody tr th:only-of-type {\n",
       "        vertical-align: middle;\n",
       "    }\n",
       "\n",
       "    .dataframe tbody tr th {\n",
       "        vertical-align: top;\n",
       "    }\n",
       "\n",
       "    .dataframe thead th {\n",
       "        text-align: right;\n",
       "    }\n",
       "</style>\n",
       "<table border=\"1\" class=\"dataframe\">\n",
       "  <thead>\n",
       "    <tr style=\"text-align: right;\">\n",
       "      <th></th>\n",
       "      <th>Gender</th>\n",
       "      <th>Age</th>\n",
       "      <th>Height</th>\n",
       "      <th>Weight</th>\n",
       "      <th>Duration</th>\n",
       "      <th>Heart_Rate</th>\n",
       "      <th>Body_Temp</th>\n",
       "      <th>Calories</th>\n",
       "    </tr>\n",
       "  </thead>\n",
       "  <tbody>\n",
       "    <tr>\n",
       "      <th>0</th>\n",
       "      <td>1</td>\n",
       "      <td>68</td>\n",
       "      <td>190</td>\n",
       "      <td>94</td>\n",
       "      <td>29</td>\n",
       "      <td>105</td>\n",
       "      <td>40</td>\n",
       "      <td>231</td>\n",
       "    </tr>\n",
       "    <tr>\n",
       "      <th>1</th>\n",
       "      <td>0</td>\n",
       "      <td>20</td>\n",
       "      <td>166</td>\n",
       "      <td>60</td>\n",
       "      <td>14</td>\n",
       "      <td>94</td>\n",
       "      <td>40</td>\n",
       "      <td>66</td>\n",
       "    </tr>\n",
       "    <tr>\n",
       "      <th>2</th>\n",
       "      <td>1</td>\n",
       "      <td>69</td>\n",
       "      <td>179</td>\n",
       "      <td>79</td>\n",
       "      <td>5</td>\n",
       "      <td>88</td>\n",
       "      <td>38</td>\n",
       "      <td>26</td>\n",
       "    </tr>\n",
       "    <tr>\n",
       "      <th>3</th>\n",
       "      <td>0</td>\n",
       "      <td>34</td>\n",
       "      <td>179</td>\n",
       "      <td>71</td>\n",
       "      <td>13</td>\n",
       "      <td>100</td>\n",
       "      <td>40</td>\n",
       "      <td>71</td>\n",
       "    </tr>\n",
       "    <tr>\n",
       "      <th>4</th>\n",
       "      <td>0</td>\n",
       "      <td>27</td>\n",
       "      <td>154</td>\n",
       "      <td>58</td>\n",
       "      <td>10</td>\n",
       "      <td>81</td>\n",
       "      <td>39</td>\n",
       "      <td>35</td>\n",
       "    </tr>\n",
       "  </tbody>\n",
       "</table>\n",
       "</div>"
      ],
      "text/plain": [
       "   Gender  Age  Height  Weight  Duration  Heart_Rate  Body_Temp  Calories\n",
       "0       1   68     190      94        29         105         40       231\n",
       "1       0   20     166      60        14          94         40        66\n",
       "2       1   69     179      79         5          88         38        26\n",
       "3       0   34     179      71        13         100         40        71\n",
       "4       0   27     154      58        10          81         39        35"
      ]
     },
     "execution_count": 93,
     "metadata": {},
     "output_type": "execute_result"
    }
   ],
   "source": [
    "data.head()"
   ]
  },
  {
   "cell_type": "code",
   "execution_count": 94,
   "id": "c08d751a",
   "metadata": {},
   "outputs": [],
   "source": [
    "loaded_model = pickle.load(open('Calories.pickle', 'rb'))"
   ]
  },
  {
   "cell_type": "code",
   "execution_count": 95,
   "id": "8315c808",
   "metadata": {},
   "outputs": [
    {
     "data": {
      "text/plain": [
       "array([230.34])"
      ]
     },
     "execution_count": 95,
     "metadata": {},
     "output_type": "execute_result"
    }
   ],
   "source": [
    "predicted_value=loaded_model.predict([[1,68,190,94,29,105,40]])\n",
    "\n",
    "\n",
    "\n",
    "predicted_value"
   ]
  },
  {
   "cell_type": "code",
   "execution_count": null,
   "id": "8fff4f95",
   "metadata": {},
   "outputs": [],
   "source": []
  },
  {
   "cell_type": "code",
   "execution_count": null,
   "id": "48fcd778",
   "metadata": {},
   "outputs": [],
   "source": []
  }
 ],
 "metadata": {
  "kernelspec": {
   "display_name": "Python 3 (ipykernel)",
   "language": "python",
   "name": "python3"
  },
  "language_info": {
   "codemirror_mode": {
    "name": "ipython",
    "version": 3
   },
   "file_extension": ".py",
   "mimetype": "text/x-python",
   "name": "python",
   "nbconvert_exporter": "python",
   "pygments_lexer": "ipython3",
   "version": "3.9.7"
  }
 },
 "nbformat": 4,
 "nbformat_minor": 5
}
